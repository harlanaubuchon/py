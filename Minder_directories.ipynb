{
 "metadata": {
  "name": "Minder_directories"
 },
 "nbformat": 3,
 "nbformat_minor": 0,
 "worksheets": [
  {
   "cells": [
    {
     "cell_type": "code",
     "collapsed": false,
     "input": [
      "import os\n",
      "import hashlib\n",
      "import pprint\n",
      "import json\n",
      "from collections import namedtuple"
     ],
     "language": "python",
     "metadata": {},
     "outputs": [],
     "prompt_number": 469
    },
    {
     "cell_type": "code",
     "collapsed": false,
     "input": [
      "path = '/home/nykhedimus/x/'"
     ],
     "language": "python",
     "metadata": {},
     "outputs": [],
     "prompt_number": 365
    },
    {
     "cell_type": "code",
     "collapsed": false,
     "input": [
      "dir_list = os.listdir(path)"
     ],
     "language": "python",
     "metadata": {},
     "outputs": [],
     "prompt_number": 366
    },
    {
     "cell_type": "code",
     "collapsed": false,
     "input": [
      "dir_list"
     ],
     "language": "python",
     "metadata": {},
     "outputs": [
      {
       "output_type": "pyout",
       "prompt_number": 367,
       "text": [
        "['test.txt', 'y', 'test_x.txt']"
       ]
      }
     ],
     "prompt_number": 367
    },
    {
     "cell_type": "code",
     "collapsed": false,
     "input": [
      "path_dir_list = []"
     ],
     "language": "python",
     "metadata": {},
     "outputs": [],
     "prompt_number": 368
    },
    {
     "cell_type": "code",
     "collapsed": false,
     "input": [
      "file_dict = {}"
     ],
     "language": "python",
     "metadata": {},
     "outputs": [],
     "prompt_number": 369
    },
    {
     "cell_type": "code",
     "collapsed": false,
     "input": [
      "for (dirname, dirs, files) in os.walk(path):\n",
      "    for dirs_name in dirs:\n",
      "        counter = 0\n",
      "        if dirs_name.startswith('.'):\n",
      "            print 'found a . in %s - removing from list' %dirs_name\n",
      "            dirs.pop(counter)\n",
      "        counter += 1\n",
      "        \n",
      "\n",
      "    for filename in files:\n",
      "        if filename[0] != '.':\n",
      "            thefile = os.path.join(dirname,filename)\n",
      "            file_handle = open(thefile,'r')\n",
      "            file_data = file_handle.read()\n",
      "            file_handle.close()\n",
      "            checksum = hashlib.md5(file_data).hexdigest()\n",
      "            file_dict[checksum] = thefile\n",
      "            print os.path.getsize(thefile), thefile, checksum"
     ],
     "language": "python",
     "metadata": {},
     "outputs": [
      {
       "output_type": "stream",
       "stream": "stdout",
       "text": [
        "37 /home/nykhedimus/x/test.txt bff2011b3f33848ad69f691684008b60\n",
        "37 /home/nykhedimus/x/test_x.txt bff2011b3f33848ad69f691684008b60\n",
        "37 /home/nykhedimus/x/y/test.txt bff2011b3f33848ad69f691684008b60\n",
        "37 /home/nykhedimus/x/y/test_y.txt bff2011b3f33848ad69f691684008b60\n"
       ]
      }
     ],
     "prompt_number": 370
    },
    {
     "cell_type": "code",
     "collapsed": false,
     "input": [
      "print file_dict"
     ],
     "language": "python",
     "metadata": {},
     "outputs": [
      {
       "output_type": "stream",
       "stream": "stdout",
       "text": [
        "{'bff2011b3f33848ad69f691684008b60': '/home/nykhedimus/x/y/test_y.txt'}\n"
       ]
      }
     ],
     "prompt_number": 371
    },
    {
     "cell_type": "code",
     "collapsed": false,
     "input": [
      "example_json =  {\n",
      "   \"dir2\" : [\n",
      "      \"dirB\",\n",
      "      \"dirA\"\n",
      "   ],\n",
      "   \"dir1\" : [\n",
      "      \"dirB\",\n",
      "      {\n",
      "         \"dirA\" : [\n",
      "            \"dirBB\",\n",
      "            \"dirAA\"\n",
      "         ]\n",
      "      }\n",
      "   ]\n",
      "}"
     ],
     "language": "python",
     "metadata": {},
     "outputs": [],
     "prompt_number": 372
    },
    {
     "cell_type": "code",
     "collapsed": false,
     "input": [
      "type(example_json)"
     ],
     "language": "python",
     "metadata": {},
     "outputs": [
      {
       "output_type": "pyout",
       "prompt_number": 373,
       "text": [
        "dict"
       ]
      }
     ],
     "prompt_number": 373
    },
    {
     "cell_type": "code",
     "collapsed": false,
     "input": [
      "pprint.pprint(example_json)"
     ],
     "language": "python",
     "metadata": {},
     "outputs": [
      {
       "output_type": "stream",
       "stream": "stdout",
       "text": [
        "{'dir1': ['dirB', {'dirA': ['dirBB', 'dirAA']}], 'dir2': ['dirB', 'dirA']}\n"
       ]
      }
     ],
     "prompt_number": 374
    },
    {
     "cell_type": "code",
     "collapsed": false,
     "input": [
      "json_folder = {}"
     ],
     "language": "python",
     "metadata": {},
     "outputs": [],
     "prompt_number": 375
    },
    {
     "cell_type": "code",
     "collapsed": false,
     "input": [
      "json_folder_key = None"
     ],
     "language": "python",
     "metadata": {},
     "outputs": [],
     "prompt_number": 376
    },
    {
     "cell_type": "code",
     "collapsed": false,
     "input": [
      "#for (dirname, dirs, files) in os.walk(path):\n",
      "#    folders = dirname.split('/')\n",
      "#    folders.remove('')\n",
      "#    json_folder_key = folders[0]\n",
      "#    for folder in folders:\n",
      "#        json_folder[json_folder_key]\n",
      "#        json_folder_key = folder\n",
      "#    print folders\n",
      "#    print dirname, dirs, files"
     ],
     "language": "python",
     "metadata": {},
     "outputs": [],
     "prompt_number": 377
    },
    {
     "cell_type": "code",
     "collapsed": false,
     "input": [
      "def get_directory_structure(rootdir):\n",
      "    \"\"\"\n",
      "    Creates a nested dictionary that represents the folder structure of rootdir\n",
      "    \"\"\"\n",
      "    dir = {}\n",
      "    rootdir = rootdir.rstrip(os.sep)\n",
      "    print \"Root Directory = %s\\n\" %rootdir\n",
      "    \n",
      "    start = rootdir.rfind(os.sep) + 1\n",
      "    print \"Starting in Directory = %s\\n\\n----------------------------------------------------------\\n\" %rootdir[start:]\n",
      "    \n",
      "    for walk_path, dirs, files in os.walk(rootdir):\n",
      "        print \"Path = %s\\n\" %walk_path, \"Directories = %s\\n\" %dirs, \"Files = %s\\n\" %files\n",
      "        \n",
      "        print \"Directory structure = %s\\n\" %dir\n",
      "        \n",
      "        \"Set the working Folder Name\"\n",
      "        folders = walk_path[start:].split(os.sep)\n",
      "        print \"Working on Folders = %s\\n\" %folders\n",
      "        \n",
      "        \"Create dictionary with files list as keys and empty values\"\n",
      "        subdir = dict.fromkeys(files)\n",
      "        print \"Folder %s contains %s\\n\" %(folders, subdir)\n",
      "        \n",
      "        \"Sets the parent folder to ...\"\n",
      "        parent = reduce(dict.get, folders[:-1], dir)\n",
      "        print \"Parent Folder contains = %s\\n\" %parent\n",
      "        \n",
      "        parent[folders[-1]] = subdir\n",
      "        print \"Sub Folder contains = %s\\n\\n----------------------------------------------------------\\n\" %subdir\n",
      "        \n",
      "    return dir"
     ],
     "language": "python",
     "metadata": {},
     "outputs": [],
     "prompt_number": 378
    },
    {
     "cell_type": "code",
     "collapsed": false,
     "input": [
      "json_folder = get_directory_structure(path)"
     ],
     "language": "python",
     "metadata": {},
     "outputs": [
      {
       "output_type": "stream",
       "stream": "stdout",
       "text": [
        "Root Directory = /home/nykhedimus/x\n",
        "\n",
        "Starting in Directory = x\n",
        "\n",
        "----------------------------------------------------------\n",
        "\n",
        "Path = /home/nykhedimus/x\n",
        "Directories = ['y']\n",
        "Files = ['test.txt', 'test_x.txt']\n",
        "\n",
        "Directory structure = {}\n",
        "\n",
        "Working on Folders = ['x']\n",
        "\n",
        "Folder ['x'] contains {'test_x.txt': None, 'test.txt': None}\n",
        "\n",
        "Parent Folder contains = {}\n",
        "\n",
        "Sub Folder contains = {'test_x.txt': None, 'test.txt': None}\n",
        "\n",
        "----------------------------------------------------------\n",
        "\n",
        "Path = /home/nykhedimus/x/y\n",
        "Directories = ['z']\n",
        "Files = ['test.txt', 'test_y.txt']\n",
        "\n",
        "Directory structure = {'x': {'test_x.txt': None, 'test.txt': None}}\n",
        "\n",
        "Working on Folders = ['x', 'y']\n",
        "\n",
        "Folder ['x', 'y'] contains {'test_y.txt': None, 'test.txt': None}\n",
        "\n",
        "Parent Folder contains = {'test_x.txt': None, 'test.txt': None}\n",
        "\n",
        "Sub Folder contains = {'test_y.txt': None, 'test.txt': None}\n",
        "\n",
        "----------------------------------------------------------\n",
        "\n",
        "Path = /home/nykhedimus/x/y/z\n",
        "Directories = []\n",
        "Files = []\n",
        "\n",
        "Directory structure = {'x': {'y': {'test_y.txt': None, 'test.txt': None}, 'test_x.txt': None, 'test.txt': None}}\n",
        "\n",
        "Working on Folders = ['x', 'y', 'z']\n",
        "\n",
        "Folder ['x', 'y', 'z'] contains {}\n",
        "\n",
        "Parent Folder contains = {'test_y.txt': None, 'test.txt': None}\n",
        "\n",
        "Sub Folder contains = {}\n",
        "\n",
        "----------------------------------------------------------\n",
        "\n"
       ]
      }
     ],
     "prompt_number": 379
    },
    {
     "cell_type": "code",
     "collapsed": false,
     "input": [
      "print json.dumps(json_folder, indent=4, sort_keys=True)"
     ],
     "language": "python",
     "metadata": {},
     "outputs": [
      {
       "output_type": "stream",
       "stream": "stdout",
       "text": [
        "{\n",
        "    \"x\": {\n",
        "        \"test.txt\": null, \n",
        "        \"test_x.txt\": null, \n",
        "        \"y\": {\n",
        "            \"test.txt\": null, \n",
        "            \"test_y.txt\": null, \n",
        "            \"z\": {}\n",
        "        }\n",
        "    }\n",
        "}\n"
       ]
      }
     ],
     "prompt_number": 380
    },
    {
     "cell_type": "code",
     "collapsed": false,
     "input": [
      "json_folder.keys()"
     ],
     "language": "python",
     "metadata": {},
     "outputs": [
      {
       "output_type": "pyout",
       "prompt_number": 381,
       "text": [
        "['x']"
       ]
      }
     ],
     "prompt_number": 381
    },
    {
     "cell_type": "code",
     "collapsed": false,
     "input": [
      "def myprint(d):\n",
      "  for k, v in d.iteritems():\n",
      "    if isinstance(v, dict):\n",
      "      myprint(v)\n",
      "    else:\n",
      "      print \"{0} : {1}\".format(k, v)"
     ],
     "language": "python",
     "metadata": {},
     "outputs": [],
     "prompt_number": 382
    },
    {
     "cell_type": "code",
     "collapsed": false,
     "input": [
      "myprint(json_folder)"
     ],
     "language": "python",
     "metadata": {},
     "outputs": [
      {
       "output_type": "stream",
       "stream": "stdout",
       "text": [
        "test_y.txt : None\n",
        "test.txt : None\n",
        "md5_sum : \n",
        "mime_type : text file\n",
        "test.txt : None\n"
       ]
      }
     ],
     "prompt_number": 424
    },
    {
     "cell_type": "code",
     "collapsed": false,
     "input": [
      "test_dir = {}\n",
      "test_folders = ['x']"
     ],
     "language": "python",
     "metadata": {},
     "outputs": [],
     "prompt_number": 384
    },
    {
     "cell_type": "code",
     "collapsed": false,
     "input": [
      "test_folders[:-1]"
     ],
     "language": "python",
     "metadata": {},
     "outputs": [
      {
       "output_type": "pyout",
       "prompt_number": 385,
       "text": [
        "[]"
       ]
      }
     ],
     "prompt_number": 385
    },
    {
     "cell_type": "code",
     "collapsed": false,
     "input": [
      "test_parent = reduce(dict.get, test_folders[:-1], test_dir)"
     ],
     "language": "python",
     "metadata": {},
     "outputs": [],
     "prompt_number": 386
    },
    {
     "cell_type": "code",
     "collapsed": false,
     "input": [
      "print test_parent"
     ],
     "language": "python",
     "metadata": {},
     "outputs": [
      {
       "output_type": "stream",
       "stream": "stdout",
       "text": [
        "{}\n"
       ]
      }
     ],
     "prompt_number": 387
    },
    {
     "cell_type": "code",
     "collapsed": false,
     "input": [
      "test_folders = ['x', 'y']"
     ],
     "language": "python",
     "metadata": {},
     "outputs": [],
     "prompt_number": 388
    },
    {
     "cell_type": "code",
     "collapsed": false,
     "input": [
      "test_folders[:-1]"
     ],
     "language": "python",
     "metadata": {},
     "outputs": [
      {
       "output_type": "pyout",
       "prompt_number": 389,
       "text": [
        "['x']"
       ]
      }
     ],
     "prompt_number": 389
    },
    {
     "cell_type": "code",
     "collapsed": false,
     "input": [
      "test_parent2 = reduce(dict.get, test_folders[:-1], test_dir)"
     ],
     "language": "python",
     "metadata": {},
     "outputs": [],
     "prompt_number": 390
    },
    {
     "cell_type": "code",
     "collapsed": false,
     "input": [
      "print test_parent2"
     ],
     "language": "python",
     "metadata": {},
     "outputs": [
      {
       "output_type": "stream",
       "stream": "stdout",
       "text": [
        "None\n"
       ]
      }
     ],
     "prompt_number": 391
    },
    {
     "cell_type": "code",
     "collapsed": false,
     "input": [
      "test_files = ['test.txt', 'test_x.txt']"
     ],
     "language": "python",
     "metadata": {},
     "outputs": [],
     "prompt_number": 392
    },
    {
     "cell_type": "code",
     "collapsed": false,
     "input": [
      "test_subdir = dict.fromkeys(test_files)"
     ],
     "language": "python",
     "metadata": {},
     "outputs": [],
     "prompt_number": 393
    },
    {
     "cell_type": "code",
     "collapsed": false,
     "input": [
      "test_subdir"
     ],
     "language": "python",
     "metadata": {},
     "outputs": [
      {
       "output_type": "pyout",
       "prompt_number": 394,
       "text": [
        "{'test.txt': None, 'test_x.txt': None}"
       ]
      }
     ],
     "prompt_number": 394
    },
    {
     "cell_type": "code",
     "collapsed": false,
     "input": [
      "q = test_parent[test_folders[0]] = test_subdir"
     ],
     "language": "python",
     "metadata": {},
     "outputs": [],
     "prompt_number": 395
    },
    {
     "cell_type": "code",
     "collapsed": false,
     "input": [
      "q"
     ],
     "language": "python",
     "metadata": {},
     "outputs": [
      {
       "output_type": "pyout",
       "prompt_number": 396,
       "text": [
        "{'test.txt': None, 'test_x.txt': None}"
       ]
      }
     ],
     "prompt_number": 396
    },
    {
     "cell_type": "code",
     "collapsed": false,
     "input": [
      "json_folder['x']['test_x.txt'] = {'mime_type' : 'text file', 'md5_sum' : ''}"
     ],
     "language": "python",
     "metadata": {},
     "outputs": [],
     "prompt_number": 455
    },
    {
     "cell_type": "code",
     "collapsed": false,
     "input": [
      "print json.dumps(json_folder, indent=4, sort_keys=True)"
     ],
     "language": "python",
     "metadata": {},
     "outputs": [
      {
       "output_type": "stream",
       "stream": "stdout",
       "text": [
        "{\n",
        "    \"x\": {\n",
        "        \"test.txt\": null, \n",
        "        \"test_x.txt\": {\n",
        "            \"md5_sum\": \"\", \n",
        "            \"mime_type\": \"text file\"\n",
        "        }, \n",
        "        \"y\": {\n",
        "            \"test.txt\": null, \n",
        "            \"test_y.txt\": null, \n",
        "            \"z\": {}\n",
        "        }\n",
        "    }\n",
        "}\n"
       ]
      }
     ],
     "prompt_number": 456
    },
    {
     "cell_type": "code",
     "collapsed": false,
     "input": [
      "json_folder['x']['test_x.txt']"
     ],
     "language": "python",
     "metadata": {},
     "outputs": [
      {
       "output_type": "pyout",
       "prompt_number": 457,
       "text": [
        "{'md5_sum': '', 'mime_type': 'text file'}"
       ]
      }
     ],
     "prompt_number": 457
    },
    {
     "cell_type": "code",
     "collapsed": false,
     "input": [
      "for x in json_folder.keys():\n",
      "    print z\n",
      "    y = json_folder[x]\n",
      "    print y\n",
      "    for z in y.keys():\n",
      "        print z"
     ],
     "language": "python",
     "metadata": {},
     "outputs": [
      {
       "output_type": "stream",
       "stream": "stdout",
       "text": [
        "test.txt\n",
        "{'y': {'test_y.txt': None, 'z': {}, 'test.txt': None}, 'test_x.txt': {'md5_sum': '', 'mime_type': 'text file'}, 'test.txt': None}\n",
        "y\n",
        "test_x.txt\n",
        "test.txt\n"
       ]
      }
     ],
     "prompt_number": 458
    },
    {
     "cell_type": "code",
     "collapsed": false,
     "input": [
      "def keypaths(nested):\n",
      "    for key, value in nested.iteritems():\n",
      "        if isinstance(value, collections.Mapping):\n",
      "            for subkey, subvalue in keypaths(value):\n",
      "                yield [key] + subkey, subvalue\n",
      "        else:\n",
      "            yield [key], value"
     ],
     "language": "python",
     "metadata": {},
     "outputs": [],
     "prompt_number": 459
    },
    {
     "cell_type": "code",
     "collapsed": false,
     "input": [
      "print list(keypaths(json_folder))"
     ],
     "language": "python",
     "metadata": {},
     "outputs": [
      {
       "output_type": "stream",
       "stream": "stdout",
       "text": [
        "[(['x', 'y', 'test_y.txt'], None), (['x', 'y', 'test.txt'], None), (['x', 'test_x.txt', 'md5_sum'], ''), (['x', 'test_x.txt', 'mime_type'], 'text file'), (['x', 'test.txt'], None)]\n"
       ]
      }
     ],
     "prompt_number": 460
    },
    {
     "cell_type": "code",
     "collapsed": false,
     "input": [
      "reverse_dict = {}\n",
      "for keypath, value in keypaths(json_folder):\n",
      "    reverse_dict.setdefault(value, []).append(keypath)"
     ],
     "language": "python",
     "metadata": {},
     "outputs": [],
     "prompt_number": 461
    },
    {
     "cell_type": "code",
     "collapsed": false,
     "input": [
      "reverse_dict"
     ],
     "language": "python",
     "metadata": {},
     "outputs": [
      {
       "output_type": "pyout",
       "prompt_number": 462,
       "text": [
        "{None: [['x', 'y', 'test_y.txt'], ['x', 'y', 'test.txt'], ['x', 'test.txt']],\n",
        " '': [['x', 'test_x.txt', 'md5_sum']],\n",
        " 'text file': [['x', 'test_x.txt', 'mime_type']]}"
       ]
      }
     ],
     "prompt_number": 462
    },
    {
     "cell_type": "code",
     "collapsed": false,
     "input": [
      "reverse_dict.keys()"
     ],
     "language": "python",
     "metadata": {},
     "outputs": [
      {
       "output_type": "pyout",
       "prompt_number": 463,
       "text": [
        "['', 'text file', None]"
       ]
      }
     ],
     "prompt_number": 463
    },
    {
     "cell_type": "code",
     "collapsed": false,
     "input": [
      "reverse_dict['text file']"
     ],
     "language": "python",
     "metadata": {},
     "outputs": [
      {
       "output_type": "pyout",
       "prompt_number": 464,
       "text": [
        "[['x', 'test_x.txt', 'mime_type']]"
       ]
      }
     ],
     "prompt_number": 464
    },
    {
     "cell_type": "code",
     "collapsed": false,
     "input": [
      "reverse_dict[None]"
     ],
     "language": "python",
     "metadata": {},
     "outputs": [
      {
       "output_type": "pyout",
       "prompt_number": 465,
       "text": [
        "[['x', 'y', 'test_y.txt'], ['x', 'y', 'test.txt'], ['x', 'test.txt']]"
       ]
      }
     ],
     "prompt_number": 465
    },
    {
     "cell_type": "code",
     "collapsed": false,
     "input": [
      "json_folder['x']"
     ],
     "language": "python",
     "metadata": {},
     "outputs": [
      {
       "output_type": "pyout",
       "prompt_number": 466,
       "text": [
        "{'test.txt': None,\n",
        " 'test_x.txt': {'md5_sum': '', 'mime_type': 'text file'},\n",
        " 'y': {'test.txt': None, 'test_y.txt': None, 'z': {}}}"
       ]
      }
     ],
     "prompt_number": 466
    },
    {
     "cell_type": "code",
     "collapsed": false,
     "input": [
      "FileMetaData = namedtuple('FileMetaData', 'mime_type, md5sum, size')"
     ],
     "language": "python",
     "metadata": {},
     "outputs": [],
     "prompt_number": 473
    },
    {
     "cell_type": "code",
     "collapsed": false,
     "input": [
      "FileMetaData._fields"
     ],
     "language": "python",
     "metadata": {},
     "outputs": [
      {
       "output_type": "pyout",
       "prompt_number": 483,
       "text": [
        "('mime_type', 'md5sum', 'size')"
       ]
      }
     ],
     "prompt_number": 483
    },
    {
     "cell_type": "code",
     "collapsed": false,
     "input": [
      "FileMetaData.mime_type = 'text'"
     ],
     "language": "python",
     "metadata": {},
     "outputs": [],
     "prompt_number": 484
    },
    {
     "cell_type": "code",
     "collapsed": false,
     "input": [
      "FileMetaData.size = 22"
     ],
     "language": "python",
     "metadata": {},
     "outputs": [],
     "prompt_number": 488
    },
    {
     "cell_type": "code",
     "collapsed": false,
     "input": [],
     "language": "python",
     "metadata": {},
     "outputs": [],
     "prompt_number": 493
    },
    {
     "cell_type": "code",
     "collapsed": false,
     "input": [],
     "language": "python",
     "metadata": {},
     "outputs": []
    }
   ],
   "metadata": {}
  }
 ]
}